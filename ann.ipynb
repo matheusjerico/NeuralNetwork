{
 "cells": [
  {
   "cell_type": "markdown",
   "metadata": {
    "colab_type": "text",
    "id": "sZe1NjCrKqGh"
   },
   "source": [
    "# Tarefa 1: Aprendizado Supervisionado"
   ]
  },
  {
   "cell_type": "markdown",
   "metadata": {
    "colab_type": "text",
    "id": "GOE3VAVlKqGi"
   },
   "source": [
    "**Autor**: Matheus Jericó Palhares <br>\n",
    "**LinkedIn**: https://linkedin.com/in/matheusjerico <br>\n",
    "**Github**: https://github.com/matheusjerico"
   ]
  },
  {
   "cell_type": "markdown",
   "metadata": {
    "colab_type": "text",
    "id": "JPMP7kU5KqGi"
   },
   "source": [
    "## 1) Tarefa:\n",
    "**1. Utilizar apenas as colunas age, chol, thalach e target;** {ok} <br>\n",
    "**2. Separar aleatoriamente e de forma equilibrada o dataset, utilizando 70% como conjunto de treinamento;**<br>\n",
    "**3. Utilizar, também de forma equilibrada, 15% para validação e 15% para teste;** {ok} <br>\n",
    "**4. Implementar o processo de treinamento e validação do modelo, plotando as curvas com as evoluções dos erros de treinamento e de validação;**<br>\n",
    "**5. Pesquisar a respeito de matrizes de confusão para classificação binária, gere uma relativa ao seu conjunto de testes e calcule o máximo de métricas que você julgar interessantes para avaliar seu modelo.**"
   ]
  },
  {
   "cell_type": "markdown",
   "metadata": {
    "colab_type": "text",
    "id": "jNdeyvaiKqGj"
   },
   "source": [
    "### 1. Bibliotecas"
   ]
  },
  {
   "cell_type": "code",
   "execution_count": 1,
   "metadata": {
    "colab": {},
    "colab_type": "code",
    "id": "0l-JdNhwKqGk"
   },
   "outputs": [],
   "source": [
    "import numpy as np\n",
    "import matplotlib.pyplot as plt\n",
    "import pandas as pd\n",
    "import random as rd\n",
    "from sklearn.preprocessing import StandardScaler\n",
    "from tensorflow.keras.wrappers.scikit_learn import KerasClassifier\n",
    "from sklearn.model_selection import GridSearchCV\n",
    "from tensorflow.keras.models import Sequential\n",
    "from sklearn.model_selection import train_test_split\n",
    "from sklearn.metrics import accuracy_score, classification_report, confusion_matrix, f1_score, roc_auc_score, precision_score\n",
    "import tensorflow as tf\n",
    "import seaborn as sns"
   ]
  },
  {
   "cell_type": "markdown",
   "metadata": {
    "colab_type": "text",
    "id": "exdZ9qPdKqGm"
   },
   "source": [
    "### 2. Carregando dados"
   ]
  },
  {
   "cell_type": "code",
   "execution_count": 2,
   "metadata": {
    "colab": {
     "base_uri": "https://localhost:8080/",
     "height": 204
    },
    "colab_type": "code",
    "id": "2fivjTmOKqGm",
    "outputId": "c33bb216-8265-45b3-ad2b-27887fba5d1c"
   },
   "outputs": [
    {
     "data": {
      "text/html": [
       "<div>\n",
       "<style scoped>\n",
       "    .dataframe tbody tr th:only-of-type {\n",
       "        vertical-align: middle;\n",
       "    }\n",
       "\n",
       "    .dataframe tbody tr th {\n",
       "        vertical-align: top;\n",
       "    }\n",
       "\n",
       "    .dataframe thead th {\n",
       "        text-align: right;\n",
       "    }\n",
       "</style>\n",
       "<table border=\"1\" class=\"dataframe\">\n",
       "  <thead>\n",
       "    <tr style=\"text-align: right;\">\n",
       "      <th></th>\n",
       "      <th>age</th>\n",
       "      <th>sex</th>\n",
       "      <th>cp</th>\n",
       "      <th>trestbps</th>\n",
       "      <th>chol</th>\n",
       "      <th>fbs</th>\n",
       "      <th>restecg</th>\n",
       "      <th>thalach</th>\n",
       "      <th>exang</th>\n",
       "      <th>oldpeak</th>\n",
       "      <th>slope</th>\n",
       "      <th>ca</th>\n",
       "      <th>thal</th>\n",
       "      <th>target</th>\n",
       "    </tr>\n",
       "  </thead>\n",
       "  <tbody>\n",
       "    <tr>\n",
       "      <th>0</th>\n",
       "      <td>63</td>\n",
       "      <td>1</td>\n",
       "      <td>3</td>\n",
       "      <td>145</td>\n",
       "      <td>233</td>\n",
       "      <td>1</td>\n",
       "      <td>0</td>\n",
       "      <td>150</td>\n",
       "      <td>0</td>\n",
       "      <td>2.3</td>\n",
       "      <td>0</td>\n",
       "      <td>0</td>\n",
       "      <td>1</td>\n",
       "      <td>1</td>\n",
       "    </tr>\n",
       "    <tr>\n",
       "      <th>1</th>\n",
       "      <td>37</td>\n",
       "      <td>1</td>\n",
       "      <td>2</td>\n",
       "      <td>130</td>\n",
       "      <td>250</td>\n",
       "      <td>0</td>\n",
       "      <td>1</td>\n",
       "      <td>187</td>\n",
       "      <td>0</td>\n",
       "      <td>3.5</td>\n",
       "      <td>0</td>\n",
       "      <td>0</td>\n",
       "      <td>2</td>\n",
       "      <td>1</td>\n",
       "    </tr>\n",
       "    <tr>\n",
       "      <th>2</th>\n",
       "      <td>41</td>\n",
       "      <td>0</td>\n",
       "      <td>1</td>\n",
       "      <td>130</td>\n",
       "      <td>204</td>\n",
       "      <td>0</td>\n",
       "      <td>0</td>\n",
       "      <td>172</td>\n",
       "      <td>0</td>\n",
       "      <td>1.4</td>\n",
       "      <td>2</td>\n",
       "      <td>0</td>\n",
       "      <td>2</td>\n",
       "      <td>1</td>\n",
       "    </tr>\n",
       "    <tr>\n",
       "      <th>3</th>\n",
       "      <td>56</td>\n",
       "      <td>1</td>\n",
       "      <td>1</td>\n",
       "      <td>120</td>\n",
       "      <td>236</td>\n",
       "      <td>0</td>\n",
       "      <td>1</td>\n",
       "      <td>178</td>\n",
       "      <td>0</td>\n",
       "      <td>0.8</td>\n",
       "      <td>2</td>\n",
       "      <td>0</td>\n",
       "      <td>2</td>\n",
       "      <td>1</td>\n",
       "    </tr>\n",
       "    <tr>\n",
       "      <th>4</th>\n",
       "      <td>57</td>\n",
       "      <td>0</td>\n",
       "      <td>0</td>\n",
       "      <td>120</td>\n",
       "      <td>354</td>\n",
       "      <td>0</td>\n",
       "      <td>1</td>\n",
       "      <td>163</td>\n",
       "      <td>1</td>\n",
       "      <td>0.6</td>\n",
       "      <td>2</td>\n",
       "      <td>0</td>\n",
       "      <td>2</td>\n",
       "      <td>1</td>\n",
       "    </tr>\n",
       "  </tbody>\n",
       "</table>\n",
       "</div>"
      ],
      "text/plain": [
       "   age  sex  cp  trestbps  chol  fbs  restecg  thalach  exang  oldpeak  slope  \\\n",
       "0   63    1   3       145   233    1        0      150      0      2.3      0   \n",
       "1   37    1   2       130   250    0        1      187      0      3.5      0   \n",
       "2   41    0   1       130   204    0        0      172      0      1.4      2   \n",
       "3   56    1   1       120   236    0        1      178      0      0.8      2   \n",
       "4   57    0   0       120   354    0        1      163      1      0.6      2   \n",
       "\n",
       "   ca  thal  target  \n",
       "0   0     1       1  \n",
       "1   0     2       1  \n",
       "2   0     2       1  \n",
       "3   0     2       1  \n",
       "4   0     2       1  "
      ]
     },
     "execution_count": 2,
     "metadata": {},
     "output_type": "execute_result"
    }
   ],
   "source": [
    "dataset = pd.read_csv(\"./Dataset/heart.csv\")\n",
    "dataset.head()"
   ]
  },
  {
   "cell_type": "code",
   "execution_count": 3,
   "metadata": {
    "colab": {
     "base_uri": "https://localhost:8080/",
     "height": 36
    },
    "colab_type": "code",
    "id": "rJTipPtuKqGp",
    "outputId": "4962748b-2a34-4c9c-cec4-ea26b3ec5d08"
   },
   "outputs": [
    {
     "data": {
      "text/plain": [
       "(303, 14)"
      ]
     },
     "execution_count": 3,
     "metadata": {},
     "output_type": "execute_result"
    }
   ],
   "source": [
    "dataset.shape"
   ]
  },
  {
   "cell_type": "markdown",
   "metadata": {},
   "source": [
    "### 3. Filtrando dados para o problema proposto"
   ]
  },
  {
   "cell_type": "code",
   "execution_count": 4,
   "metadata": {
    "colab": {},
    "colab_type": "code",
    "id": "SWsCdz0SKqGr"
   },
   "outputs": [],
   "source": [
    "df = dataset[['age', 'chol', 'thalach', 'target']].copy()"
   ]
  },
  {
   "cell_type": "code",
   "execution_count": 5,
   "metadata": {
    "colab": {
     "base_uri": "https://localhost:8080/",
     "height": 284
    },
    "colab_type": "code",
    "id": "RqmLHZAtKqGt",
    "outputId": "ffd48798-a71a-4532-9f1f-928f94f4a434"
   },
   "outputs": [
    {
     "data": {
      "text/html": [
       "<div>\n",
       "<style scoped>\n",
       "    .dataframe tbody tr th:only-of-type {\n",
       "        vertical-align: middle;\n",
       "    }\n",
       "\n",
       "    .dataframe tbody tr th {\n",
       "        vertical-align: top;\n",
       "    }\n",
       "\n",
       "    .dataframe thead th {\n",
       "        text-align: right;\n",
       "    }\n",
       "</style>\n",
       "<table border=\"1\" class=\"dataframe\">\n",
       "  <thead>\n",
       "    <tr style=\"text-align: right;\">\n",
       "      <th></th>\n",
       "      <th>age</th>\n",
       "      <th>chol</th>\n",
       "      <th>thalach</th>\n",
       "      <th>target</th>\n",
       "    </tr>\n",
       "  </thead>\n",
       "  <tbody>\n",
       "    <tr>\n",
       "      <th>0</th>\n",
       "      <td>63</td>\n",
       "      <td>233</td>\n",
       "      <td>150</td>\n",
       "      <td>1</td>\n",
       "    </tr>\n",
       "    <tr>\n",
       "      <th>1</th>\n",
       "      <td>37</td>\n",
       "      <td>250</td>\n",
       "      <td>187</td>\n",
       "      <td>1</td>\n",
       "    </tr>\n",
       "    <tr>\n",
       "      <th>2</th>\n",
       "      <td>41</td>\n",
       "      <td>204</td>\n",
       "      <td>172</td>\n",
       "      <td>1</td>\n",
       "    </tr>\n",
       "    <tr>\n",
       "      <th>3</th>\n",
       "      <td>56</td>\n",
       "      <td>236</td>\n",
       "      <td>178</td>\n",
       "      <td>1</td>\n",
       "    </tr>\n",
       "    <tr>\n",
       "      <th>4</th>\n",
       "      <td>57</td>\n",
       "      <td>354</td>\n",
       "      <td>163</td>\n",
       "      <td>1</td>\n",
       "    </tr>\n",
       "  </tbody>\n",
       "</table>\n",
       "</div>"
      ],
      "text/plain": [
       "   age  chol  thalach  target\n",
       "0   63   233      150       1\n",
       "1   37   250      187       1\n",
       "2   41   204      172       1\n",
       "3   56   236      178       1\n",
       "4   57   354      163       1"
      ]
     },
     "execution_count": 5,
     "metadata": {},
     "output_type": "execute_result"
    }
   ],
   "source": [
    "df.head()"
   ]
  },
  {
   "cell_type": "code",
   "execution_count": 6,
   "metadata": {},
   "outputs": [
    {
     "name": "stdout",
     "output_type": "stream",
     "text": [
      "<class 'pandas.core.frame.DataFrame'>\n",
      "RangeIndex: 303 entries, 0 to 302\n",
      "Data columns (total 4 columns):\n",
      " #   Column   Non-Null Count  Dtype\n",
      "---  ------   --------------  -----\n",
      " 0   age      303 non-null    int64\n",
      " 1   chol     303 non-null    int64\n",
      " 2   thalach  303 non-null    int64\n",
      " 3   target   303 non-null    int64\n",
      "dtypes: int64(4)\n",
      "memory usage: 9.6 KB\n"
     ]
    }
   ],
   "source": [
    "df.info()"
   ]
  },
  {
   "cell_type": "code",
   "execution_count": 7,
   "metadata": {},
   "outputs": [
    {
     "data": {
      "text/html": [
       "<div>\n",
       "<style scoped>\n",
       "    .dataframe tbody tr th:only-of-type {\n",
       "        vertical-align: middle;\n",
       "    }\n",
       "\n",
       "    .dataframe tbody tr th {\n",
       "        vertical-align: top;\n",
       "    }\n",
       "\n",
       "    .dataframe thead th {\n",
       "        text-align: right;\n",
       "    }\n",
       "</style>\n",
       "<table border=\"1\" class=\"dataframe\">\n",
       "  <thead>\n",
       "    <tr style=\"text-align: right;\">\n",
       "      <th></th>\n",
       "      <th>age</th>\n",
       "      <th>chol</th>\n",
       "      <th>thalach</th>\n",
       "      <th>target</th>\n",
       "    </tr>\n",
       "  </thead>\n",
       "  <tbody>\n",
       "    <tr>\n",
       "      <th>count</th>\n",
       "      <td>303.000000</td>\n",
       "      <td>303.000000</td>\n",
       "      <td>303.000000</td>\n",
       "      <td>303.000000</td>\n",
       "    </tr>\n",
       "    <tr>\n",
       "      <th>mean</th>\n",
       "      <td>54.366337</td>\n",
       "      <td>246.264026</td>\n",
       "      <td>149.646865</td>\n",
       "      <td>0.544554</td>\n",
       "    </tr>\n",
       "    <tr>\n",
       "      <th>std</th>\n",
       "      <td>9.082101</td>\n",
       "      <td>51.830751</td>\n",
       "      <td>22.905161</td>\n",
       "      <td>0.498835</td>\n",
       "    </tr>\n",
       "    <tr>\n",
       "      <th>min</th>\n",
       "      <td>29.000000</td>\n",
       "      <td>126.000000</td>\n",
       "      <td>71.000000</td>\n",
       "      <td>0.000000</td>\n",
       "    </tr>\n",
       "    <tr>\n",
       "      <th>25%</th>\n",
       "      <td>47.500000</td>\n",
       "      <td>211.000000</td>\n",
       "      <td>133.500000</td>\n",
       "      <td>0.000000</td>\n",
       "    </tr>\n",
       "    <tr>\n",
       "      <th>50%</th>\n",
       "      <td>55.000000</td>\n",
       "      <td>240.000000</td>\n",
       "      <td>153.000000</td>\n",
       "      <td>1.000000</td>\n",
       "    </tr>\n",
       "    <tr>\n",
       "      <th>75%</th>\n",
       "      <td>61.000000</td>\n",
       "      <td>274.500000</td>\n",
       "      <td>166.000000</td>\n",
       "      <td>1.000000</td>\n",
       "    </tr>\n",
       "    <tr>\n",
       "      <th>max</th>\n",
       "      <td>77.000000</td>\n",
       "      <td>564.000000</td>\n",
       "      <td>202.000000</td>\n",
       "      <td>1.000000</td>\n",
       "    </tr>\n",
       "  </tbody>\n",
       "</table>\n",
       "</div>"
      ],
      "text/plain": [
       "              age        chol     thalach      target\n",
       "count  303.000000  303.000000  303.000000  303.000000\n",
       "mean    54.366337  246.264026  149.646865    0.544554\n",
       "std      9.082101   51.830751   22.905161    0.498835\n",
       "min     29.000000  126.000000   71.000000    0.000000\n",
       "25%     47.500000  211.000000  133.500000    0.000000\n",
       "50%     55.000000  240.000000  153.000000    1.000000\n",
       "75%     61.000000  274.500000  166.000000    1.000000\n",
       "max     77.000000  564.000000  202.000000    1.000000"
      ]
     },
     "execution_count": 7,
     "metadata": {},
     "output_type": "execute_result"
    }
   ],
   "source": [
    "df.describe()"
   ]
  },
  {
   "cell_type": "markdown",
   "metadata": {
    "colab_type": "text",
    "id": "6vV5GQrXKqGv"
   },
   "source": [
    "### 3. Separando dados"
   ]
  },
  {
   "cell_type": "code",
   "execution_count": 8,
   "metadata": {},
   "outputs": [],
   "source": [
    "X = df.drop(columns='target')\n",
    "y = df['target'].copy()"
   ]
  },
  {
   "cell_type": "code",
   "execution_count": 9,
   "metadata": {},
   "outputs": [
    {
     "data": {
      "text/html": [
       "<div>\n",
       "<style scoped>\n",
       "    .dataframe tbody tr th:only-of-type {\n",
       "        vertical-align: middle;\n",
       "    }\n",
       "\n",
       "    .dataframe tbody tr th {\n",
       "        vertical-align: top;\n",
       "    }\n",
       "\n",
       "    .dataframe thead th {\n",
       "        text-align: right;\n",
       "    }\n",
       "</style>\n",
       "<table border=\"1\" class=\"dataframe\">\n",
       "  <thead>\n",
       "    <tr style=\"text-align: right;\">\n",
       "      <th></th>\n",
       "      <th>age</th>\n",
       "      <th>chol</th>\n",
       "      <th>thalach</th>\n",
       "    </tr>\n",
       "  </thead>\n",
       "  <tbody>\n",
       "    <tr>\n",
       "      <th>0</th>\n",
       "      <td>63</td>\n",
       "      <td>233</td>\n",
       "      <td>150</td>\n",
       "    </tr>\n",
       "    <tr>\n",
       "      <th>1</th>\n",
       "      <td>37</td>\n",
       "      <td>250</td>\n",
       "      <td>187</td>\n",
       "    </tr>\n",
       "    <tr>\n",
       "      <th>2</th>\n",
       "      <td>41</td>\n",
       "      <td>204</td>\n",
       "      <td>172</td>\n",
       "    </tr>\n",
       "    <tr>\n",
       "      <th>3</th>\n",
       "      <td>56</td>\n",
       "      <td>236</td>\n",
       "      <td>178</td>\n",
       "    </tr>\n",
       "    <tr>\n",
       "      <th>4</th>\n",
       "      <td>57</td>\n",
       "      <td>354</td>\n",
       "      <td>163</td>\n",
       "    </tr>\n",
       "  </tbody>\n",
       "</table>\n",
       "</div>"
      ],
      "text/plain": [
       "   age  chol  thalach\n",
       "0   63   233      150\n",
       "1   37   250      187\n",
       "2   41   204      172\n",
       "3   56   236      178\n",
       "4   57   354      163"
      ]
     },
     "execution_count": 9,
     "metadata": {},
     "output_type": "execute_result"
    }
   ],
   "source": [
    "X.head()"
   ]
  },
  {
   "cell_type": "code",
   "execution_count": 10,
   "metadata": {},
   "outputs": [
    {
     "data": {
      "text/plain": [
       "0    1\n",
       "1    1\n",
       "2    1\n",
       "3    1\n",
       "4    1\n",
       "Name: target, dtype: int64"
      ]
     },
     "execution_count": 10,
     "metadata": {},
     "output_type": "execute_result"
    }
   ],
   "source": [
    "y.head()"
   ]
  },
  {
   "cell_type": "markdown",
   "metadata": {
    "colab": {},
    "colab_type": "code",
    "id": "m2UKis2QKqGw"
   },
   "source": [
    "### 4. Separando dados de treino, teste e validação"
   ]
  },
  {
   "cell_type": "code",
   "execution_count": 11,
   "metadata": {},
   "outputs": [],
   "source": [
    "X_train, X_test, y_train, y_test = train_test_split(X, y, test_size = 0.30, stratify=y, random_state = 43)\n",
    "X_test, X_val, y_test, y_val = train_test_split(X_test, y_test, test_size = 0.5, stratify= y_test,random_state = 43)"
   ]
  },
  {
   "cell_type": "code",
   "execution_count": 12,
   "metadata": {},
   "outputs": [
    {
     "name": "stdout",
     "output_type": "stream",
     "text": [
      "Quantidade de registros e dimensão X: (303, 3)\n",
      "Quantidade de registros e dimensão y: (303,)\n",
      "\n",
      "Quantidade de registros e dimensão X_train: (212, 3)\n",
      "Quantidade de registros e dimensão y_train: (212,)\n",
      "\n",
      "Quantidade de registros e dimensão X_test: (45, 3)\n",
      "Quantidade de registros e dimensão y_test: (45,)\n",
      "\n",
      "Quantidade de registros e dimensão X_val: (46, 3)\n",
      "Quantidade de registros e dimensão y_val: (46,)\n",
      "\n"
     ]
    }
   ],
   "source": [
    "print(f\"Quantidade de registros e dimensão X: {X.shape}\")\n",
    "print(f\"Quantidade de registros e dimensão y: {y.shape}\\n\")\n",
    "print(f\"Quantidade de registros e dimensão X_train: {X_train.shape}\")\n",
    "print(f\"Quantidade de registros e dimensão y_train: {y_train.shape}\\n\")\n",
    "print(f\"Quantidade de registros e dimensão X_test: {X_test.shape}\")\n",
    "print(f\"Quantidade de registros e dimensão y_test: {y_test.shape}\\n\")\n",
    "print(f\"Quantidade de registros e dimensão X_val: {X_val.shape}\")\n",
    "print(f\"Quantidade de registros e dimensão y_val: {y_val.shape}\\n\")"
   ]
  },
  {
   "cell_type": "markdown",
   "metadata": {},
   "source": [
    "### 5. Criação do algoritmo"
   ]
  },
  {
   "cell_type": "code",
   "execution_count": 13,
   "metadata": {},
   "outputs": [],
   "source": [
    "def create_model(input_dim = 3):\n",
    "    model = Sequential([\n",
    "               tf.keras.layers.Dense(units=16, \n",
    "                                     activation = 'relu', \n",
    "                                     kernel_initializer = 'normal',\n",
    "                                     input_dim=input_dim),\n",
    "               tf.keras.layers.Dropout(0.2),\n",
    "               tf.keras.layers.Dense(units=16,\n",
    "                                     activation = 'relu',\n",
    "                                     kernel_initializer = 'normal'),\n",
    "               tf.keras.layers.Dropout(0.2),\n",
    "               tf.keras.layers.Dense(units=1, activation = 'sigmoid')])\n",
    "\n",
    "    return model"
   ]
  },
  {
   "cell_type": "code",
   "execution_count": 14,
   "metadata": {},
   "outputs": [],
   "source": [
    "model = create_model(input_dim=3)\n",
    "otimizador = tf.keras.optimizers.Adam(lr = 0.01, decay = 0.0001, clipvalue = 0.5)"
   ]
  },
  {
   "cell_type": "markdown",
   "metadata": {},
   "source": [
    "### 6. Normalizando os dados"
   ]
  },
  {
   "cell_type": "code",
   "execution_count": 15,
   "metadata": {},
   "outputs": [],
   "source": [
    "scaler = StandardScaler().fit(X_train)\n",
    "X_train = scaler.transform(X_train)\n",
    "X_test = scaler.transform(X_test)\n",
    "X_val = scaler.transform(X_val)"
   ]
  },
  {
   "cell_type": "markdown",
   "metadata": {},
   "source": [
    "### 6. Treinamento do algoritmo"
   ]
  },
  {
   "cell_type": "code",
   "execution_count": 16,
   "metadata": {},
   "outputs": [],
   "source": [
    "model.compile(optimizer = otimizador, loss = 'binary_crossentropy',\n",
    "                      metrics = ['binary_accuracy'])"
   ]
  },
  {
   "cell_type": "code",
   "execution_count": 17,
   "metadata": {},
   "outputs": [
    {
     "name": "stdout",
     "output_type": "stream",
     "text": [
      "Model: \"sequential\"\n",
      "_________________________________________________________________\n",
      "Layer (type)                 Output Shape              Param #   \n",
      "=================================================================\n",
      "dense (Dense)                (None, 16)                64        \n",
      "_________________________________________________________________\n",
      "dropout (Dropout)            (None, 16)                0         \n",
      "_________________________________________________________________\n",
      "dense_1 (Dense)              (None, 16)                272       \n",
      "_________________________________________________________________\n",
      "dropout_1 (Dropout)          (None, 16)                0         \n",
      "_________________________________________________________________\n",
      "dense_2 (Dense)              (None, 1)                 17        \n",
      "=================================================================\n",
      "Total params: 353\n",
      "Trainable params: 353\n",
      "Non-trainable params: 0\n",
      "_________________________________________________________________\n"
     ]
    }
   ],
   "source": [
    "model.summary()"
   ]
  },
  {
   "cell_type": "code",
   "execution_count": 18,
   "metadata": {
    "scrolled": true
   },
   "outputs": [
    {
     "name": "stdout",
     "output_type": "stream",
     "text": [
      "Train on 212 samples, validate on 46 samples\n",
      "Epoch 1/50\n",
      "212/212 [==============================] - 1s 6ms/sample - loss: 0.6809 - binary_accuracy: 0.6179 - val_loss: 0.6479 - val_binary_accuracy: 0.6522\n",
      "Epoch 2/50\n",
      "212/212 [==============================] - 0s 756us/sample - loss: 0.6015 - binary_accuracy: 0.6698 - val_loss: 0.5729 - val_binary_accuracy: 0.6739\n",
      "Epoch 3/50\n",
      "212/212 [==============================] - 0s 677us/sample - loss: 0.5811 - binary_accuracy: 0.6887 - val_loss: 0.5499 - val_binary_accuracy: 0.6739\n",
      "Epoch 4/50\n",
      "212/212 [==============================] - 0s 807us/sample - loss: 0.5716 - binary_accuracy: 0.6651 - val_loss: 0.5467 - val_binary_accuracy: 0.6739\n",
      "Epoch 5/50\n",
      "212/212 [==============================] - 0s 545us/sample - loss: 0.5715 - binary_accuracy: 0.6745 - val_loss: 0.5470 - val_binary_accuracy: 0.6739\n",
      "Epoch 6/50\n",
      "212/212 [==============================] - 0s 690us/sample - loss: 0.5715 - binary_accuracy: 0.7028 - val_loss: 0.5538 - val_binary_accuracy: 0.6739\n",
      "Epoch 7/50\n",
      "212/212 [==============================] - 0s 820us/sample - loss: 0.5704 - binary_accuracy: 0.7028 - val_loss: 0.5520 - val_binary_accuracy: 0.6739\n",
      "Epoch 8/50\n",
      "212/212 [==============================] - 0s 584us/sample - loss: 0.5650 - binary_accuracy: 0.7075 - val_loss: 0.5467 - val_binary_accuracy: 0.6739\n",
      "Epoch 9/50\n",
      "212/212 [==============================] - 0s 720us/sample - loss: 0.5674 - binary_accuracy: 0.7123 - val_loss: 0.5424 - val_binary_accuracy: 0.6522\n",
      "Epoch 10/50\n",
      "212/212 [==============================] - 0s 625us/sample - loss: 0.5500 - binary_accuracy: 0.7311 - val_loss: 0.5530 - val_binary_accuracy: 0.6522\n",
      "Epoch 11/50\n",
      "212/212 [==============================] - 0s 769us/sample - loss: 0.5347 - binary_accuracy: 0.6934 - val_loss: 0.5493 - val_binary_accuracy: 0.6739\n",
      "Epoch 12/50\n",
      "212/212 [==============================] - 0s 568us/sample - loss: 0.5499 - binary_accuracy: 0.7217 - val_loss: 0.5449 - val_binary_accuracy: 0.6739\n",
      "Epoch 13/50\n",
      "212/212 [==============================] - 0s 509us/sample - loss: 0.5342 - binary_accuracy: 0.7358 - val_loss: 0.5552 - val_binary_accuracy: 0.6739\n",
      "Epoch 14/50\n",
      "212/212 [==============================] - 0s 523us/sample - loss: 0.5530 - binary_accuracy: 0.6934 - val_loss: 0.5564 - val_binary_accuracy: 0.6957\n",
      "Epoch 15/50\n",
      "212/212 [==============================] - 0s 649us/sample - loss: 0.5726 - binary_accuracy: 0.7406 - val_loss: 0.5476 - val_binary_accuracy: 0.6522\n",
      "Epoch 16/50\n",
      "212/212 [==============================] - 0s 521us/sample - loss: 0.5684 - binary_accuracy: 0.7170 - val_loss: 0.5735 - val_binary_accuracy: 0.6739\n",
      "Epoch 17/50\n",
      "212/212 [==============================] - 0s 608us/sample - loss: 0.5440 - binary_accuracy: 0.7406 - val_loss: 0.5515 - val_binary_accuracy: 0.6304\n",
      "Epoch 18/50\n",
      "212/212 [==============================] - 0s 623us/sample - loss: 0.5626 - binary_accuracy: 0.7217 - val_loss: 0.5706 - val_binary_accuracy: 0.6739\n",
      "Epoch 19/50\n",
      "212/212 [==============================] - 0s 760us/sample - loss: 0.5371 - binary_accuracy: 0.7453 - val_loss: 0.5582 - val_binary_accuracy: 0.6522\n",
      "Epoch 20/50\n",
      "212/212 [==============================] - 0s 521us/sample - loss: 0.5710 - binary_accuracy: 0.7028 - val_loss: 0.5573 - val_binary_accuracy: 0.6304\n",
      "Epoch 21/50\n",
      "212/212 [==============================] - 0s 597us/sample - loss: 0.5515 - binary_accuracy: 0.7358 - val_loss: 0.5769 - val_binary_accuracy: 0.6739\n",
      "Epoch 22/50\n",
      "212/212 [==============================] - 0s 642us/sample - loss: 0.5503 - binary_accuracy: 0.7358 - val_loss: 0.5873 - val_binary_accuracy: 0.6739\n",
      "Epoch 23/50\n",
      "212/212 [==============================] - 0s 637us/sample - loss: 0.5201 - binary_accuracy: 0.7642 - val_loss: 0.5749 - val_binary_accuracy: 0.6522\n",
      "Epoch 24/50\n",
      "212/212 [==============================] - 0s 615us/sample - loss: 0.5517 - binary_accuracy: 0.7217 - val_loss: 0.6023 - val_binary_accuracy: 0.6739\n",
      "Epoch 25/50\n",
      "212/212 [==============================] - 0s 611us/sample - loss: 0.5205 - binary_accuracy: 0.7311 - val_loss: 0.5946 - val_binary_accuracy: 0.6304\n",
      "Epoch 26/50\n",
      "212/212 [==============================] - 0s 625us/sample - loss: 0.5463 - binary_accuracy: 0.7264 - val_loss: 0.6066 - val_binary_accuracy: 0.6304\n",
      "Epoch 27/50\n",
      "212/212 [==============================] - 0s 647us/sample - loss: 0.5278 - binary_accuracy: 0.7406 - val_loss: 0.5805 - val_binary_accuracy: 0.6522\n",
      "Epoch 28/50\n",
      "212/212 [==============================] - 0s 475us/sample - loss: 0.5436 - binary_accuracy: 0.7217 - val_loss: 0.6120 - val_binary_accuracy: 0.6522\n",
      "Epoch 29/50\n",
      "212/212 [==============================] - 0s 584us/sample - loss: 0.5480 - binary_accuracy: 0.7028 - val_loss: 0.5904 - val_binary_accuracy: 0.6739\n",
      "Epoch 30/50\n",
      "212/212 [==============================] - 0s 625us/sample - loss: 0.5726 - binary_accuracy: 0.7406 - val_loss: 0.5989 - val_binary_accuracy: 0.6522\n",
      "Epoch 31/50\n",
      "212/212 [==============================] - 0s 419us/sample - loss: 0.5513 - binary_accuracy: 0.7358 - val_loss: 0.6007 - val_binary_accuracy: 0.6522\n",
      "Epoch 32/50\n",
      "212/212 [==============================] - 0s 410us/sample - loss: 0.5224 - binary_accuracy: 0.7264 - val_loss: 0.6044 - val_binary_accuracy: 0.6739\n",
      "Epoch 33/50\n",
      "212/212 [==============================] - 0s 635us/sample - loss: 0.5461 - binary_accuracy: 0.7264 - val_loss: 0.6018 - val_binary_accuracy: 0.6522\n",
      "Epoch 34/50\n",
      "212/212 [==============================] - 0s 717us/sample - loss: 0.5395 - binary_accuracy: 0.7547 - val_loss: 0.6234 - val_binary_accuracy: 0.6522\n",
      "Epoch 35/50\n",
      "212/212 [==============================] - 0s 607us/sample - loss: 0.5435 - binary_accuracy: 0.7547 - val_loss: 0.6240 - val_binary_accuracy: 0.6522\n",
      "Epoch 36/50\n",
      "212/212 [==============================] - 0s 543us/sample - loss: 0.5310 - binary_accuracy: 0.7123 - val_loss: 0.6253 - val_binary_accuracy: 0.6739\n",
      "Epoch 37/50\n",
      "212/212 [==============================] - 0s 560us/sample - loss: 0.5123 - binary_accuracy: 0.7406 - val_loss: 0.6543 - val_binary_accuracy: 0.6957\n",
      "Epoch 38/50\n",
      "212/212 [==============================] - 0s 574us/sample - loss: 0.5546 - binary_accuracy: 0.7406 - val_loss: 0.6342 - val_binary_accuracy: 0.6739\n",
      "Epoch 39/50\n",
      "212/212 [==============================] - 0s 414us/sample - loss: 0.5206 - binary_accuracy: 0.7358 - val_loss: 0.6199 - val_binary_accuracy: 0.6087\n",
      "Epoch 40/50\n",
      "212/212 [==============================] - 0s 586us/sample - loss: 0.5196 - binary_accuracy: 0.7594 - val_loss: 0.6463 - val_binary_accuracy: 0.6739\n",
      "Epoch 41/50\n",
      "212/212 [==============================] - 0s 506us/sample - loss: 0.5094 - binary_accuracy: 0.7453 - val_loss: 0.6186 - val_binary_accuracy: 0.6522\n",
      "Epoch 42/50\n",
      "212/212 [==============================] - 0s 464us/sample - loss: 0.5607 - binary_accuracy: 0.7123 - val_loss: 0.5802 - val_binary_accuracy: 0.6739\n",
      "Epoch 43/50\n",
      "212/212 [==============================] - 0s 586us/sample - loss: 0.5228 - binary_accuracy: 0.7170 - val_loss: 0.6236 - val_binary_accuracy: 0.6739\n",
      "Epoch 44/50\n",
      "212/212 [==============================] - 0s 555us/sample - loss: 0.5221 - binary_accuracy: 0.7217 - val_loss: 0.6422 - val_binary_accuracy: 0.6739\n",
      "Epoch 45/50\n",
      "212/212 [==============================] - 0s 610us/sample - loss: 0.5405 - binary_accuracy: 0.7594 - val_loss: 0.6502 - val_binary_accuracy: 0.6522\n",
      "Epoch 46/50\n",
      "212/212 [==============================] - 0s 584us/sample - loss: 0.5283 - binary_accuracy: 0.7406 - val_loss: 0.6660 - val_binary_accuracy: 0.6739\n",
      "Epoch 47/50\n",
      "212/212 [==============================] - 0s 580us/sample - loss: 0.5271 - binary_accuracy: 0.7264 - val_loss: 0.6856 - val_binary_accuracy: 0.6739\n",
      "Epoch 48/50\n",
      "212/212 [==============================] - 0s 702us/sample - loss: 0.5405 - binary_accuracy: 0.7075 - val_loss: 0.6838 - val_binary_accuracy: 0.6304\n",
      "Epoch 49/50\n",
      "212/212 [==============================] - 0s 483us/sample - loss: 0.5265 - binary_accuracy: 0.7217 - val_loss: 0.7144 - val_binary_accuracy: 0.6739\n",
      "Epoch 50/50\n",
      "212/212 [==============================] - 0s 605us/sample - loss: 0.5233 - binary_accuracy: 0.7500 - val_loss: 0.6721 - val_binary_accuracy: 0.6739\n"
     ]
    }
   ],
   "source": [
    "EPOCHS = 50\n",
    "BS = 12\n",
    "\n",
    "H = model.fit(X_train, y_train,\n",
    "              validation_data=(X_val, y_val),\n",
    "              epochs = EPOCHS, \n",
    "              batch_size = BS,      \n",
    "              shuffle=True)"
   ]
  },
  {
   "cell_type": "markdown",
   "metadata": {},
   "source": [
    "### 7. Predição"
   ]
  },
  {
   "cell_type": "code",
   "execution_count": 19,
   "metadata": {},
   "outputs": [],
   "source": [
    "y_pred = model.predict_classes(X_test)"
   ]
  },
  {
   "cell_type": "markdown",
   "metadata": {},
   "source": [
    "### 8. Gráfico de evolução de métricas de treinamento"
   ]
  },
  {
   "cell_type": "code",
   "execution_count": 20,
   "metadata": {},
   "outputs": [
    {
     "data": {
      "text/plain": [
       "<matplotlib.legend.Legend at 0x7f9e64f197f0>"
      ]
     },
     "execution_count": 20,
     "metadata": {},
     "output_type": "execute_result"
    },
    {
     "data": {
      "image/png": "[encoded data removed]",
      "text/plain": [
       "<Figure size 720x360 with 1 Axes>"
      ]
     },
     "metadata": {
      "needs_background": "light"
     },
     "output_type": "display_data"
    }
   ],
   "source": [
    "N = 50\n",
    "plt.figure(figsize = (10,5))\n",
    "plt.plot(np.arange(0, N), H.history[\"loss\"], label=\"Erro de Treinamento\")\n",
    "plt.plot(np.arange(0, N), H.history[\"val_loss\"], label=\"Erro de Validação\")\n",
    "plt.title(\"Evoluções dos erros de treinamento e de validação\", size=15)\n",
    "plt.xlabel(\"Epoch #\")\n",
    "plt.ylabel(\"Erro\")\n",
    "plt.legend(loc=\"best\", prop={\"size\": 10})"
   ]
  },
  {
   "cell_type": "code",
   "execution_count": 21,
   "metadata": {},
   "outputs": [
    {
     "data": {
      "text/plain": [
       "<matplotlib.legend.Legend at 0x7f9e64a42cf8>"
      ]
     },
     "execution_count": 21,
     "metadata": {},
     "output_type": "execute_result"
    },
    {
     "data": {
      "image/png": "[encoded data removed]",
      "text/plain": [
       "<Figure size 720x360 with 1 Axes>"
      ]
     },
     "metadata": {
      "needs_background": "light"
     },
     "output_type": "display_data"
    }
   ],
   "source": [
    "N = 50\n",
    "plt.figure(figsize = (10,5))\n",
    "plt.plot(np.arange(0, N), H.history[\"binary_accuracy\"], label=\"Acurácia de Treinamento\")\n",
    "plt.plot(np.arange(0, N), H.history[\"val_binary_accuracy\"], label=\"Acurácia de Validação\")\n",
    "plt.title(\"Evoluções da Acurácia de treinamento e de validação\", size=15)\n",
    "plt.xlabel(\"Epoch #\")\n",
    "plt.ylabel(\"Acurácia\")\n",
    "plt.legend(loc=\"best\", prop={\"size\": 10})"
   ]
  },
  {
   "cell_type": "markdown",
   "metadata": {},
   "source": [
    "### 9. Métricas"
   ]
  },
  {
   "cell_type": "markdown",
   "metadata": {},
   "source": [
    "#### 9.1. Matriz de Confusão"
   ]
  },
  {
   "cell_type": "code",
   "execution_count": 22,
   "metadata": {},
   "outputs": [
    {
     "data": {
      "image/png": "[encoded data removed]",
      "text/plain": [
       "<Figure size 432x432 with 2 Axes>"
      ]
     },
     "metadata": {
      "needs_background": "light"
     },
     "output_type": "display_data"
    }
   ],
   "source": [
    "LABELS = [\"Positivo\", \"Negativo\"]\n",
    "conf_matrix = confusion_matrix(y_test, y_pred)\n",
    "\n",
    "plt.figure(figsize=(6, 6))\n",
    "sns.heatmap(conf_matrix, xticklabels=LABELS, yticklabels=LABELS, annot=True, fmt=\"d\");\n",
    "plt.title(\"Matriz de confusão\")\n",
    "plt.ylabel('Classe')\n",
    "plt.xlabel('Predição')\n",
    "plt.show()"
   ]
  },
  {
   "cell_type": "markdown",
   "metadata": {},
   "source": [
    "#### 9.2. Precision & Accuracy"
   ]
  },
  {
   "cell_type": "code",
   "execution_count": 23,
   "metadata": {},
   "outputs": [
    {
     "name": "stdout",
     "output_type": "stream",
     "text": [
      "Precision: 0.6666666666666666\n"
     ]
    }
   ],
   "source": [
    "print(f'Precision: {precision_score(y_test, y_pred)}')"
   ]
  },
  {
   "cell_type": "code",
   "execution_count": 24,
   "metadata": {},
   "outputs": [
    {
     "name": "stdout",
     "output_type": "stream",
     "text": [
      "Accuracy: 0.5777777777777777\n"
     ]
    }
   ],
   "source": [
    "print(f'Accuracy: {accuracy_score(y_test, y_pred)}')"
   ]
  },
  {
   "cell_type": "markdown",
   "metadata": {},
   "source": [
    "#### 9.3. ROC AUC"
   ]
  },
  {
   "cell_type": "code",
   "execution_count": 25,
   "metadata": {},
   "outputs": [
    {
     "data": {
      "text/plain": [
       "0.59"
      ]
     },
     "execution_count": 25,
     "metadata": {},
     "output_type": "execute_result"
    }
   ],
   "source": [
    "roc_auc_score(y_test, y_pred)"
   ]
  },
  {
   "cell_type": "markdown",
   "metadata": {},
   "source": [
    "#### 9.4. F1-Score"
   ]
  },
  {
   "cell_type": "code",
   "execution_count": 26,
   "metadata": {},
   "outputs": [
    {
     "name": "stdout",
     "output_type": "stream",
     "text": [
      "Accuracy: 0.5581395348837209\n"
     ]
    }
   ],
   "source": [
    "print(f'Accuracy: {f1_score(y_test, y_pred)}') "
   ]
  },
  {
   "cell_type": "markdown",
   "metadata": {},
   "source": [
    "#### 9.5. Tudo junto & Misturado (Precision, Recall e F1-score)"
   ]
  },
  {
   "cell_type": "code",
   "execution_count": 27,
   "metadata": {},
   "outputs": [
    {
     "name": "stdout",
     "output_type": "stream",
     "text": [
      "              precision    recall  f1-score   support\n",
      "\n",
      "           0       0.52      0.70      0.60        20\n",
      "           1       0.67      0.48      0.56        25\n",
      "\n",
      "    accuracy                           0.58        45\n",
      "   macro avg       0.59      0.59      0.58        45\n",
      "weighted avg       0.60      0.58      0.57        45\n",
      "\n"
     ]
    }
   ],
   "source": [
    "print(classification_report(y_test, y_pred))"
   ]
  },
  {
   "cell_type": "markdown",
   "metadata": {},
   "source": [
    "# DESAFIO\n",
    "**Utilizando todos os dados do dataset**"
   ]
  },
  {
   "cell_type": "markdown",
   "metadata": {},
   "source": [
    "### 1. Separação dos dados"
   ]
  },
  {
   "cell_type": "code",
   "execution_count": 28,
   "metadata": {},
   "outputs": [],
   "source": [
    "df = dataset.copy()"
   ]
  },
  {
   "cell_type": "code",
   "execution_count": 29,
   "metadata": {},
   "outputs": [],
   "source": [
    "X = df.drop(columns='target')\n",
    "y = df['target'].copy()"
   ]
  },
  {
   "cell_type": "code",
   "execution_count": 30,
   "metadata": {},
   "outputs": [
    {
     "data": {
      "text/html": [
       "<div>\n",
       "<style scoped>\n",
       "    .dataframe tbody tr th:only-of-type {\n",
       "        vertical-align: middle;\n",
       "    }\n",
       "\n",
       "    .dataframe tbody tr th {\n",
       "        vertical-align: top;\n",
       "    }\n",
       "\n",
       "    .dataframe thead th {\n",
       "        text-align: right;\n",
       "    }\n",
       "</style>\n",
       "<table border=\"1\" class=\"dataframe\">\n",
       "  <thead>\n",
       "    <tr style=\"text-align: right;\">\n",
       "      <th></th>\n",
       "      <th>age</th>\n",
       "      <th>sex</th>\n",
       "      <th>cp</th>\n",
       "      <th>trestbps</th>\n",
       "      <th>chol</th>\n",
       "      <th>fbs</th>\n",
       "      <th>restecg</th>\n",
       "      <th>thalach</th>\n",
       "      <th>exang</th>\n",
       "      <th>oldpeak</th>\n",
       "      <th>slope</th>\n",
       "      <th>ca</th>\n",
       "      <th>thal</th>\n",
       "    </tr>\n",
       "  </thead>\n",
       "  <tbody>\n",
       "    <tr>\n",
       "      <th>0</th>\n",
       "      <td>63</td>\n",
       "      <td>1</td>\n",
       "      <td>3</td>\n",
       "      <td>145</td>\n",
       "      <td>233</td>\n",
       "      <td>1</td>\n",
       "      <td>0</td>\n",
       "      <td>150</td>\n",
       "      <td>0</td>\n",
       "      <td>2.3</td>\n",
       "      <td>0</td>\n",
       "      <td>0</td>\n",
       "      <td>1</td>\n",
       "    </tr>\n",
       "    <tr>\n",
       "      <th>1</th>\n",
       "      <td>37</td>\n",
       "      <td>1</td>\n",
       "      <td>2</td>\n",
       "      <td>130</td>\n",
       "      <td>250</td>\n",
       "      <td>0</td>\n",
       "      <td>1</td>\n",
       "      <td>187</td>\n",
       "      <td>0</td>\n",
       "      <td>3.5</td>\n",
       "      <td>0</td>\n",
       "      <td>0</td>\n",
       "      <td>2</td>\n",
       "    </tr>\n",
       "    <tr>\n",
       "      <th>2</th>\n",
       "      <td>41</td>\n",
       "      <td>0</td>\n",
       "      <td>1</td>\n",
       "      <td>130</td>\n",
       "      <td>204</td>\n",
       "      <td>0</td>\n",
       "      <td>0</td>\n",
       "      <td>172</td>\n",
       "      <td>0</td>\n",
       "      <td>1.4</td>\n",
       "      <td>2</td>\n",
       "      <td>0</td>\n",
       "      <td>2</td>\n",
       "    </tr>\n",
       "    <tr>\n",
       "      <th>3</th>\n",
       "      <td>56</td>\n",
       "      <td>1</td>\n",
       "      <td>1</td>\n",
       "      <td>120</td>\n",
       "      <td>236</td>\n",
       "      <td>0</td>\n",
       "      <td>1</td>\n",
       "      <td>178</td>\n",
       "      <td>0</td>\n",
       "      <td>0.8</td>\n",
       "      <td>2</td>\n",
       "      <td>0</td>\n",
       "      <td>2</td>\n",
       "    </tr>\n",
       "    <tr>\n",
       "      <th>4</th>\n",
       "      <td>57</td>\n",
       "      <td>0</td>\n",
       "      <td>0</td>\n",
       "      <td>120</td>\n",
       "      <td>354</td>\n",
       "      <td>0</td>\n",
       "      <td>1</td>\n",
       "      <td>163</td>\n",
       "      <td>1</td>\n",
       "      <td>0.6</td>\n",
       "      <td>2</td>\n",
       "      <td>0</td>\n",
       "      <td>2</td>\n",
       "    </tr>\n",
       "  </tbody>\n",
       "</table>\n",
       "</div>"
      ],
      "text/plain": [
       "   age  sex  cp  trestbps  chol  fbs  restecg  thalach  exang  oldpeak  slope  \\\n",
       "0   63    1   3       145   233    1        0      150      0      2.3      0   \n",
       "1   37    1   2       130   250    0        1      187      0      3.5      0   \n",
       "2   41    0   1       130   204    0        0      172      0      1.4      2   \n",
       "3   56    1   1       120   236    0        1      178      0      0.8      2   \n",
       "4   57    0   0       120   354    0        1      163      1      0.6      2   \n",
       "\n",
       "   ca  thal  \n",
       "0   0     1  \n",
       "1   0     2  \n",
       "2   0     2  \n",
       "3   0     2  \n",
       "4   0     2  "
      ]
     },
     "execution_count": 30,
     "metadata": {},
     "output_type": "execute_result"
    }
   ],
   "source": [
    "X.head()"
   ]
  },
  {
   "cell_type": "code",
   "execution_count": 31,
   "metadata": {},
   "outputs": [],
   "source": [
    "X_train, X_test, y_train, y_test = train_test_split(X, y, test_size = 0.30, stratify=y, random_state = 43)\n",
    "X_test, X_val, y_test, y_val = train_test_split(X_test, y_test, test_size = 0.5, stratify= y_test,random_state = 43)"
   ]
  },
  {
   "cell_type": "markdown",
   "metadata": {},
   "source": [
    "### 2. Criação do modelo"
   ]
  },
  {
   "cell_type": "code",
   "execution_count": 32,
   "metadata": {},
   "outputs": [],
   "source": [
    "model = create_model(input_dim=13)\n",
    "otimizador = tf.keras.optimizers.Adam(lr = 0.01, decay = 0.0001, clipvalue = 0.5)"
   ]
  },
  {
   "cell_type": "markdown",
   "metadata": {},
   "source": [
    "### 3. Normalizando"
   ]
  },
  {
   "cell_type": "code",
   "execution_count": 33,
   "metadata": {},
   "outputs": [],
   "source": [
    "scaler = StandardScaler().fit(X_train)\n",
    "X_train = scaler.transform(X_train)\n",
    "X_test = scaler.transform(X_test)\n",
    "X_val = scaler.transform(X_val)"
   ]
  },
  {
   "cell_type": "markdown",
   "metadata": {},
   "source": [
    "### 4. Treinamento"
   ]
  },
  {
   "cell_type": "code",
   "execution_count": 34,
   "metadata": {},
   "outputs": [],
   "source": [
    "model.compile(optimizer = otimizador, loss = 'binary_crossentropy',\n",
    "                      metrics = ['binary_accuracy'])"
   ]
  },
  {
   "cell_type": "code",
   "execution_count": 35,
   "metadata": {
    "scrolled": true
   },
   "outputs": [
    {
     "name": "stdout",
     "output_type": "stream",
     "text": [
      "Train on 212 samples, validate on 46 samples\n",
      "Epoch 1/50\n",
      "212/212 [==============================] - 1s 5ms/sample - loss: 0.5833 - binary_accuracy: 0.7642 - val_loss: 0.3558 - val_binary_accuracy: 0.8913\n",
      "Epoch 2/50\n",
      "212/212 [==============================] - 0s 602us/sample - loss: 0.3786 - binary_accuracy: 0.8443 - val_loss: 0.3046 - val_binary_accuracy: 0.8696\n",
      "Epoch 3/50\n",
      "212/212 [==============================] - 0s 517us/sample - loss: 0.3437 - binary_accuracy: 0.8679 - val_loss: 0.2864 - val_binary_accuracy: 0.8478\n",
      "Epoch 4/50\n",
      "212/212 [==============================] - 0s 597us/sample - loss: 0.3241 - binary_accuracy: 0.8443 - val_loss: 0.3022 - val_binary_accuracy: 0.8478\n",
      "Epoch 5/50\n",
      "212/212 [==============================] - 0s 582us/sample - loss: 0.3236 - binary_accuracy: 0.8726 - val_loss: 0.3110 - val_binary_accuracy: 0.8478\n",
      "Epoch 6/50\n",
      "212/212 [==============================] - 0s 520us/sample - loss: 0.3506 - binary_accuracy: 0.8679 - val_loss: 0.2842 - val_binary_accuracy: 0.8696\n",
      "Epoch 7/50\n",
      "212/212 [==============================] - 0s 806us/sample - loss: 0.3246 - binary_accuracy: 0.8538 - val_loss: 0.2860 - val_binary_accuracy: 0.8913\n",
      "Epoch 8/50\n",
      "212/212 [==============================] - 0s 625us/sample - loss: 0.2971 - binary_accuracy: 0.8774 - val_loss: 0.2885 - val_binary_accuracy: 0.8913\n",
      "Epoch 9/50\n",
      "212/212 [==============================] - 0s 534us/sample - loss: 0.2891 - binary_accuracy: 0.8774 - val_loss: 0.3000 - val_binary_accuracy: 0.8696\n",
      "Epoch 10/50\n",
      "212/212 [==============================] - 0s 497us/sample - loss: 0.2996 - binary_accuracy: 0.8915 - val_loss: 0.2959 - val_binary_accuracy: 0.9130\n",
      "Epoch 11/50\n",
      "212/212 [==============================] - 0s 641us/sample - loss: 0.2701 - binary_accuracy: 0.8679 - val_loss: 0.2824 - val_binary_accuracy: 0.9130\n",
      "Epoch 12/50\n",
      "212/212 [==============================] - 0s 561us/sample - loss: 0.2710 - binary_accuracy: 0.8962 - val_loss: 0.2919 - val_binary_accuracy: 0.8696\n",
      "Epoch 13/50\n",
      "212/212 [==============================] - 0s 556us/sample - loss: 0.2579 - binary_accuracy: 0.8962 - val_loss: 0.3080 - val_binary_accuracy: 0.8478\n",
      "Epoch 14/50\n",
      "212/212 [==============================] - 0s 630us/sample - loss: 0.2963 - binary_accuracy: 0.8726 - val_loss: 0.2771 - val_binary_accuracy: 0.8913\n",
      "Epoch 15/50\n",
      "212/212 [==============================] - 0s 686us/sample - loss: 0.2680 - binary_accuracy: 0.9057 - val_loss: 0.2855 - val_binary_accuracy: 0.8696\n",
      "Epoch 16/50\n",
      "212/212 [==============================] - 0s 623us/sample - loss: 0.2477 - binary_accuracy: 0.8821 - val_loss: 0.2957 - val_binary_accuracy: 0.8478\n",
      "Epoch 17/50\n",
      "212/212 [==============================] - 0s 588us/sample - loss: 0.2513 - binary_accuracy: 0.8868 - val_loss: 0.2741 - val_binary_accuracy: 0.9130\n",
      "Epoch 18/50\n",
      "212/212 [==============================] - 0s 645us/sample - loss: 0.2722 - binary_accuracy: 0.8915 - val_loss: 0.2689 - val_binary_accuracy: 0.9130\n",
      "Epoch 19/50\n",
      "212/212 [==============================] - 0s 623us/sample - loss: 0.2380 - binary_accuracy: 0.9009 - val_loss: 0.3231 - val_binary_accuracy: 0.8696\n",
      "Epoch 20/50\n",
      "212/212 [==============================] - 0s 575us/sample - loss: 0.2398 - binary_accuracy: 0.8821 - val_loss: 0.3153 - val_binary_accuracy: 0.8696\n",
      "Epoch 21/50\n",
      "212/212 [==============================] - 0s 430us/sample - loss: 0.2268 - binary_accuracy: 0.8726 - val_loss: 0.3201 - val_binary_accuracy: 0.8696\n",
      "Epoch 22/50\n",
      "212/212 [==============================] - 0s 615us/sample - loss: 0.2215 - binary_accuracy: 0.9009 - val_loss: 0.2936 - val_binary_accuracy: 0.8913\n",
      "Epoch 23/50\n",
      "212/212 [==============================] - 0s 647us/sample - loss: 0.2272 - binary_accuracy: 0.9198 - val_loss: 0.3248 - val_binary_accuracy: 0.8696\n",
      "Epoch 24/50\n",
      "212/212 [==============================] - 0s 738us/sample - loss: 0.1984 - binary_accuracy: 0.8962 - val_loss: 0.3375 - val_binary_accuracy: 0.8696\n",
      "Epoch 25/50\n",
      "212/212 [==============================] - 0s 718us/sample - loss: 0.2319 - binary_accuracy: 0.9151 - val_loss: 0.3542 - val_binary_accuracy: 0.8913\n",
      "Epoch 26/50\n",
      "212/212 [==============================] - 0s 509us/sample - loss: 0.2025 - binary_accuracy: 0.9057 - val_loss: 0.3650 - val_binary_accuracy: 0.8478\n",
      "Epoch 27/50\n",
      "212/212 [==============================] - 0s 542us/sample - loss: 0.2292 - binary_accuracy: 0.9245 - val_loss: 0.3601 - val_binary_accuracy: 0.8261\n",
      "Epoch 28/50\n",
      "212/212 [==============================] - 0s 469us/sample - loss: 0.1980 - binary_accuracy: 0.9292 - val_loss: 0.3710 - val_binary_accuracy: 0.8478\n",
      "Epoch 29/50\n",
      "212/212 [==============================] - 0s 649us/sample - loss: 0.2142 - binary_accuracy: 0.9104 - val_loss: 0.3482 - val_binary_accuracy: 0.8478\n",
      "Epoch 30/50\n",
      "212/212 [==============================] - 0s 597us/sample - loss: 0.2181 - binary_accuracy: 0.9151 - val_loss: 0.3359 - val_binary_accuracy: 0.8696\n",
      "Epoch 31/50\n",
      "212/212 [==============================] - 0s 622us/sample - loss: 0.1969 - binary_accuracy: 0.9151 - val_loss: 0.3166 - val_binary_accuracy: 0.8913\n",
      "Epoch 32/50\n",
      "212/212 [==============================] - 0s 644us/sample - loss: 0.1560 - binary_accuracy: 0.9340 - val_loss: 0.3861 - val_binary_accuracy: 0.8696\n",
      "Epoch 33/50\n",
      "212/212 [==============================] - 0s 580us/sample - loss: 0.1852 - binary_accuracy: 0.9292 - val_loss: 0.3721 - val_binary_accuracy: 0.8696\n",
      "Epoch 34/50\n",
      "212/212 [==============================] - 0s 531us/sample - loss: 0.1863 - binary_accuracy: 0.9434 - val_loss: 0.3869 - val_binary_accuracy: 0.8478\n",
      "Epoch 35/50\n",
      "212/212 [==============================] - 0s 505us/sample - loss: 0.1952 - binary_accuracy: 0.9340 - val_loss: 0.4059 - val_binary_accuracy: 0.8478\n",
      "Epoch 36/50\n",
      "212/212 [==============================] - 0s 687us/sample - loss: 0.1718 - binary_accuracy: 0.9481 - val_loss: 0.4096 - val_binary_accuracy: 0.8696\n",
      "Epoch 37/50\n",
      "212/212 [==============================] - 0s 729us/sample - loss: 0.1939 - binary_accuracy: 0.9104 - val_loss: 0.3636 - val_binary_accuracy: 0.8696\n",
      "Epoch 38/50\n",
      "212/212 [==============================] - 0s 678us/sample - loss: 0.1850 - binary_accuracy: 0.9198 - val_loss: 0.3830 - val_binary_accuracy: 0.8696\n",
      "Epoch 39/50\n",
      "212/212 [==============================] - 0s 549us/sample - loss: 0.1626 - binary_accuracy: 0.9292 - val_loss: 0.4103 - val_binary_accuracy: 0.8478\n",
      "Epoch 40/50\n",
      "212/212 [==============================] - 0s 512us/sample - loss: 0.1584 - binary_accuracy: 0.9434 - val_loss: 0.4220 - val_binary_accuracy: 0.8478\n",
      "Epoch 41/50\n",
      "212/212 [==============================] - 0s 566us/sample - loss: 0.2007 - binary_accuracy: 0.9245 - val_loss: 0.4135 - val_binary_accuracy: 0.8696\n",
      "Epoch 42/50\n",
      "212/212 [==============================] - 0s 396us/sample - loss: 0.1675 - binary_accuracy: 0.9434 - val_loss: 0.3975 - val_binary_accuracy: 0.8478\n",
      "Epoch 43/50\n",
      "212/212 [==============================] - 0s 239us/sample - loss: 0.1638 - binary_accuracy: 0.9198 - val_loss: 0.4100 - val_binary_accuracy: 0.8696\n",
      "Epoch 44/50\n",
      "212/212 [==============================] - 0s 232us/sample - loss: 0.1767 - binary_accuracy: 0.9104 - val_loss: 0.4392 - val_binary_accuracy: 0.8913\n",
      "Epoch 45/50\n",
      "212/212 [==============================] - 0s 227us/sample - loss: 0.1431 - binary_accuracy: 0.9434 - val_loss: 0.4148 - val_binary_accuracy: 0.8913\n",
      "Epoch 46/50\n",
      "212/212 [==============================] - 0s 276us/sample - loss: 0.1500 - binary_accuracy: 0.9387 - val_loss: 0.4015 - val_binary_accuracy: 0.8696\n",
      "Epoch 47/50\n",
      "212/212 [==============================] - 0s 611us/sample - loss: 0.1734 - binary_accuracy: 0.9151 - val_loss: 0.4034 - val_binary_accuracy: 0.8696\n",
      "Epoch 48/50\n",
      "212/212 [==============================] - 0s 700us/sample - loss: 0.1590 - binary_accuracy: 0.9340 - val_loss: 0.4142 - val_binary_accuracy: 0.8696\n",
      "Epoch 49/50\n",
      "212/212 [==============================] - 0s 644us/sample - loss: 0.1535 - binary_accuracy: 0.9387 - val_loss: 0.4466 - val_binary_accuracy: 0.8696\n",
      "Epoch 50/50\n",
      "212/212 [==============================] - 0s 712us/sample - loss: 0.1316 - binary_accuracy: 0.9575 - val_loss: 0.4373 - val_binary_accuracy: 0.8696\n"
     ]
    }
   ],
   "source": [
    "EPOCHS = 50\n",
    "BS = 12\n",
    "\n",
    "H = model.fit(X_train, y_train,\n",
    "              validation_data=(X_val, y_val),\n",
    "              epochs = EPOCHS, \n",
    "              batch_size = BS,      \n",
    "              shuffle=True)"
   ]
  },
  {
   "cell_type": "markdown",
   "metadata": {},
   "source": [
    "### 5. Predição"
   ]
  },
  {
   "cell_type": "code",
   "execution_count": 36,
   "metadata": {},
   "outputs": [],
   "source": [
    "y_pred = model.predict_classes(X_test)"
   ]
  },
  {
   "cell_type": "markdown",
   "metadata": {},
   "source": [
    "### 6. Gráfico de evolução de métricas de treinamento"
   ]
  },
  {
   "cell_type": "code",
   "execution_count": 37,
   "metadata": {},
   "outputs": [
    {
     "data": {
      "text/plain": [
       "<matplotlib.legend.Legend at 0x7f9e644bfda0>"
      ]
     },
     "execution_count": 37,
     "metadata": {},
     "output_type": "execute_result"
    },
    {
     "data": {
      "image/png": "[encoded data removed]",
      "text/plain": [
       "<Figure size 720x360 with 1 Axes>"
      ]
     },
     "metadata": {
      "needs_background": "light"
     },
     "output_type": "display_data"
    }
   ],
   "source": [
    "N = 50\n",
    "plt.figure(figsize = (10,5))\n",
    "plt.plot(np.arange(0, N), H.history[\"loss\"], label=\"Erro de Treinamento\")\n",
    "plt.plot(np.arange(0, N), H.history[\"val_loss\"], label=\"Erro de Validação\")\n",
    "plt.title(\"Evoluções dos erros de treinamento e de validação\", size=15)\n",
    "plt.xlabel(\"Epoch #\")\n",
    "plt.ylabel(\"Erro\")\n",
    "plt.legend(loc=\"best\", prop={\"size\": 10})"
   ]
  },
  {
   "cell_type": "code",
   "execution_count": 38,
   "metadata": {},
   "outputs": [
    {
     "data": {
      "text/plain": [
       "<matplotlib.legend.Legend at 0x7f9e64492cc0>"
      ]
     },
     "execution_count": 38,
     "metadata": {},
     "output_type": "execute_result"
    },
    {
     "data": {
      "image/png": "[encoded data removed]",
      "text/plain": [
       "<Figure size 720x360 with 1 Axes>"
      ]
     },
     "metadata": {
      "needs_background": "light"
     },
     "output_type": "display_data"
    }
   ],
   "source": [
    "N = 50\n",
    "plt.figure(figsize = (10,5))\n",
    "plt.plot(np.arange(0, N), H.history[\"binary_accuracy\"], label=\"Acurácia de Treinamento\")\n",
    "plt.plot(np.arange(0, N), H.history[\"val_binary_accuracy\"], label=\"Acurácia de Validação\")\n",
    "plt.title(\"Evoluções da Acurácia de treinamento e de validação\", size=15)\n",
    "plt.xlabel(\"Epoch #\")\n",
    "plt.ylabel(\"Acurácia\")\n",
    "plt.legend(loc=\"best\", prop={\"size\": 10})"
   ]
  },
  {
   "cell_type": "markdown",
   "metadata": {},
   "source": [
    "### 7. Métricas"
   ]
  },
  {
   "cell_type": "code",
   "execution_count": 39,
   "metadata": {},
   "outputs": [
    {
     "data": {
      "image/png": "[encoded data removed]",
      "text/plain": [
       "<Figure size 432x432 with 2 Axes>"
      ]
     },
     "metadata": {
      "needs_background": "light"
     },
     "output_type": "display_data"
    }
   ],
   "source": [
    "LABELS = [\"Positivo\", \"Negativo\"]\n",
    "conf_matrix = confusion_matrix(y_test, y_pred)\n",
    "\n",
    "plt.figure(figsize=(6, 6))\n",
    "sns.heatmap(conf_matrix, xticklabels=LABELS, yticklabels=LABELS, annot=True, fmt=\"d\");\n",
    "plt.title(\"Matriz de confusão\")\n",
    "plt.ylabel('Classe')\n",
    "plt.xlabel('Predição')\n",
    "plt.show()"
   ]
  },
  {
   "cell_type": "code",
   "execution_count": 40,
   "metadata": {},
   "outputs": [
    {
     "name": "stdout",
     "output_type": "stream",
     "text": [
      "              precision    recall  f1-score   support\n",
      "\n",
      "           0       0.75      0.75      0.75        20\n",
      "           1       0.80      0.80      0.80        25\n",
      "\n",
      "    accuracy                           0.78        45\n",
      "   macro avg       0.78      0.78      0.78        45\n",
      "weighted avg       0.78      0.78      0.78        45\n",
      "\n"
     ]
    }
   ],
   "source": [
    "print(classification_report(y_test, y_pred))"
   ]
  },
  {
   "cell_type": "code",
   "execution_count": 42,
   "metadata": {},
   "outputs": [
    {
     "name": "stdout",
     "output_type": "stream",
     "text": [
      "Accuracy: 0.7777777777777778\n"
     ]
    }
   ],
   "source": [
    "print(f'Accuracy: {accuracy_score(y_test, y_pred)}')"
   ]
  },
  {
   "cell_type": "markdown",
   "metadata": {},
   "source": [
    "**Análise:** \n",
    "- O desempenho melhorou consideravelmente analisando a matriz de confusão, acurácia, recall e f1-score.\n",
    "- O incremento na quantidade de features mostrou melhorar o desempenho do modelo de redes neurais.  "
   ]
  }
 ],
 "metadata": {
  "colab": {
   "name": "kmeans_scratch.ipynb",
   "provenance": []
  },
  "kernelspec": {
   "display_name": "Python 3",
   "language": "python",
   "name": "python3"
  },
  "language_info": {
   "codemirror_mode": {
    "name": "ipython",
    "version": 3
   },
   "file_extension": ".py",
   "mimetype": "text/x-python",
   "name": "python",
   "nbconvert_exporter": "python",
   "pygments_lexer": "ipython3",
   "version": "3.6.10"
  }
 },
 "nbformat": 4,
 "nbformat_minor": 1
}
